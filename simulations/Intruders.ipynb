{
 "cells": [
  {
   "cell_type": "code",
   "execution_count": 1,
   "metadata": {},
   "outputs": [],
   "source": [
    "import numpy as np\n",
    "import scipy.stats as st\n",
    "import pandas as pd\n",
    "import torch\n",
    "import torch.distributions as td\n",
    "from tqdm import tqdm\n",
    "import random\n",
    "\n",
    "from agents.base_agent import Agent\n",
    "from agents.bayesian_agent import BayesianAgent\n",
    "from plotting import plot_simulation_stats, plot_learned_distribution_matrix, plot_communication_network"
   ]
  },
  {
   "cell_type": "markdown",
   "metadata": {},
   "source": [
    "### RBPC with Intruders"
   ]
  },
  {
   "cell_type": "code",
   "execution_count": 2,
   "metadata": {},
   "outputs": [],
   "source": [
    "def reproduce(population: list[Agent], mu: float, reputation=False, size=1):\n",
    "    offspring = []\n",
    "    if reputation:\n",
    "        if len(population) > 2:\n",
    "            total_rep = np.sum([agent.reputation for agent in population])\n",
    "            repr_chances = td.Categorical(probs=torch.Tensor([agent.reputation/total_rep for agent in population])) # agents with higher reputation have higher chances of reproduction\n",
    "            for _ in range(size):\n",
    "                parent1 = population[int(repr_chances.sample())]\n",
    "                while True:\n",
    "                    parent2 = population[int(repr_chances.sample())]\n",
    "                    if parent1 != parent2:\n",
    "                        break\n",
    "                offspring.append(Agent(mu, parents=(parent1, parent2)))\n",
    "    else:\n",
    "        if len(population) > 2:\n",
    "            for _ in range(size):\n",
    "                parent1 = random.choice(population)\n",
    "                while True:\n",
    "                    parent2 = random.choice(population)\n",
    "                    if parent1 != parent2:\n",
    "                        break\n",
    "                offspring.append(Agent(mu, parents=(parent1, parent2)))\n",
    "    return offspring\n",
    "\n",
    "\n",
    "def simulate_bio_evolution(num_food_opportunities: int, num_generations:int, population_size:int, reputation_reproduction: bool, intruders=False, mu=0.01, partitions=2, **class_variables):\n",
    "    # adjust class variables if given:\n",
    "    Agent.set_class_variables(**class_variables)\n",
    "\n",
    "    # set up df to collect data:\n",
    "    features = pd.DataFrame(columns=[\"generation\", \"feature\", \"type\", \"starvation\"])\n",
    "    partitions = [round(i/partitions*num_generations) for i in range(partitions+1)]\n",
    "    partitions[0] = 1   \n",
    "    #initialize first generation\n",
    "    current_gen = [Agent(mu) for _ in range(population_size)]\n",
    "\n",
    "    for gen in tqdm(range(1, (num_generations+1))):\n",
    "        if intruders and (gen in partitions[1:]):\n",
    "            for agent in current_gen[10:20]:\n",
    "                agent.malintent = 15\n",
    "                agent.id = \"intruder\"\n",
    "        for food_opportunity in range(1, (num_food_opportunities+1)):\n",
    "            # apply food decay and food opportunities:\n",
    "            for agent in current_gen:\n",
    "                agent.apply_food_decay()\n",
    "                agent.found_food(other=np.random.choice(current_gen))\n",
    "\n",
    "            # starve agents every 5 generations if their food_counter drops too low:\n",
    "            if food_opportunity % 5 == 0:\n",
    "                current_gen = [agent for agent in current_gen if not agent.starve()]\n",
    "\n",
    "        # record population level features/ statistics:\n",
    "        communication, malintent = [],[]\n",
    "        for agent in current_gen:\n",
    "            communication.append(agent.communication)\n",
    "            malintent.append(agent.malintent)\n",
    "        features.loc[len(features.index)] = [gen, np.mean(communication) if len(current_gen) > 0 else None, \"communication\", (population_size-len(current_gen))]\n",
    "        features.loc[len(features.index)] = [gen, np.mean(malintent) if len(current_gen) > 0 else None, \"malintent\", (population_size-len(current_gen))]\n",
    "\n",
    "        # simulate reproduction with reputation:\n",
    "        current_gen = reproduce(current_gen, mu, reputation=reputation_reproduction, size=population_size)\n",
    "    return features, partitions if intruders else features"
   ]
  },
  {
   "cell_type": "code",
   "execution_count": 3,
   "metadata": {},
   "outputs": [
    {
     "name": "stderr",
     "output_type": "stream",
     "text": [
      "  1%|          | 2/200 [00:06<10:05,  3.06s/it]"
     ]
    }
   ],
   "source": [
    "sim_bio, intruders = simulate_bio_evolution(num_food_opportunities=100, num_generations=200, population_size=30, intruders=True, reputation_reproduction=True, food_decay=1.65)\n",
    "plot_bio = plot_simulation_stats(sim_bio, starvation_plot=True, intruders=intruders)"
   ]
  },
  {
   "cell_type": "markdown",
   "metadata": {},
   "source": [
    "### Bayesian agents"
   ]
  },
  {
   "cell_type": "code",
   "execution_count": null,
   "metadata": {},
   "outputs": [],
   "source": [
    "def reproduce(population: list[BayesianAgent], mu: float, size=1):\n",
    "    offspring = []\n",
    "    if len(population) > 2:\n",
    "        for _ in range(size):\n",
    "            while True:\n",
    "                parent1 = random.choice(population)\n",
    "                parent2 = random.choice(parent1.cohort)\n",
    "                if st.bernoulli(parent1.likelihood_communicate(parent2)).rvs(1) and st.bernoulli(parent2.likelihood_communicate(parent1)).rvs(1):\n",
    "                    offspring.append(BayesianAgent(mu, parents=(parent1, parent2)))\n",
    "                    break\n",
    "    return offspring\n",
    "\n",
    "def simulate_bayesian_agents(num_food_opportunities: int, num_generations:int, population_size:int, gossip=False, intruders=False, mu=0.01, partitions=2, **class_variables):\n",
    "    # adjust class variables if given:\n",
    "    Agent.set_class_variables(**class_variables)\n",
    "    # set up df to collect data:\n",
    "    features = pd.DataFrame(columns=[\"generation\", \"feature\", \"type\", \"starvation\"])\n",
    "    # initialize first generation\n",
    "    current_gen = [BayesianAgent(mu) for _ in range(population_size)]\n",
    "    # for saving data about bayesian updating\n",
    "    partitions = [round(i/partitions*num_generations) for i in range(partitions+1)]\n",
    "    partitions[0] = 1\n",
    "    saved_generations = {} # generation: list of agents\n",
    "    for gen in tqdm(range(1, (num_generations+1))):\n",
    "        if intruders and (gen in partitions[1:]):\n",
    "            for i, agent in enumerate(current_gen[10:20], 1):\n",
    "                agent.malintent = 15\n",
    "                agent.id = f\"intruder_{i}\"\n",
    "        for agent in current_gen:\n",
    "            agent.set_cohort(current_gen)\n",
    "        for food_opportunity in range(1, (num_food_opportunities+1)):\n",
    "            # apply food decay and food opportunities:\n",
    "            for agent in current_gen:\n",
    "                agent.apply_food_decay()\n",
    "                agent.found_food(other=np.random.choice(agent.cohort))\n",
    "                # incorporate gossip (exchange of information)\n",
    "                if gossip:\n",
    "                    if len(agent.last_interaction) == 2:\n",
    "                        other, pos_outcome = agent.last_interaction\n",
    "                        recipient = np.random.choice(agent.cohort)\n",
    "                        if other is not recipient:\n",
    "                            recipient.incorporate_gossip(agent, other, pos_outcome)\n",
    "            # starve agents every 5 generations if their food_counter drops too low:\n",
    "            if food_opportunity % 5 == 0:\n",
    "                current_gen = [agent for agent in current_gen if not agent.starve()]\n",
    "\n",
    "        # record population level features/ statistics:\n",
    "        communication, malintent, reputation = [], [], []\n",
    "        for agent in current_gen:\n",
    "            communication.append(agent.communication)\n",
    "            malintent.append(agent.malintent)\n",
    "            reputation.append(agent.reputation)\n",
    "        features.loc[len(features.index)] = [gen, np.mean(communication) if len(current_gen) > 0 else None, \"communication\", (population_size-len(current_gen))]\n",
    "        features.loc[len(features.index)] = [gen, np.mean(malintent) if len(current_gen) > 0 else None, \"malintent\", None]\n",
    "        if gen in partitions:\n",
    "            saved_generations[gen] = [agent for agent in current_gen]\n",
    "\n",
    "        # simulate reproduction with reputation:\n",
    "        if gen < num_generations:\n",
    "            current_gen = reproduce(current_gen, mu, size=population_size)\n",
    "    return (saved_generations, features, partitions) if intruders else (saved_generations, features)"
   ]
  },
  {
   "cell_type": "code",
   "execution_count": null,
   "metadata": {},
   "outputs": [],
   "source": [
    "no_gossip_gens, bayes_no_gossip, intruders = simulate_bayesian_agents(num_food_opportunities=100, num_generations=200, population_size=30, intruders=True, food_decay = 1.65)\n",
    "plot_no_gossip = plot_simulation_stats(bayes_no_gossip, starvation_plot=True, intruders=intruders)\n",
    "matrix_no_gossip = plot_learned_distribution_matrix(no_gossip_gens, intruder=True, figsize=(16,6))"
   ]
  },
  {
   "cell_type": "code",
   "execution_count": null,
   "metadata": {},
   "outputs": [],
   "source": [
    "gossip_gens, bayes_gossip, intruders = simulate_bayesian_agents(num_food_opportunities=100, num_generations=200, population_size=30, gossip=True, intruders=True, food_decay = 1.65)\n",
    "plot_gossip = plot_simulation_stats(bayes_gossip, starvation_plot=True, intruders=intruders)\n",
    "matrix_gossip = plot_learned_distribution_matrix(gossip_gens, intruder=True, figsize=(16,6))"
   ]
  }
 ],
 "metadata": {
  "kernelspec": {
   "display_name": "Python 3",
   "language": "python",
   "name": "python3"
  },
  "language_info": {
   "codemirror_mode": {
    "name": "ipython",
    "version": 3
   },
   "file_extension": ".py",
   "mimetype": "text/x-python",
   "name": "python",
   "nbconvert_exporter": "python",
   "pygments_lexer": "ipython3",
   "version": "3.12.0"
  }
 },
 "nbformat": 4,
 "nbformat_minor": 2
}
